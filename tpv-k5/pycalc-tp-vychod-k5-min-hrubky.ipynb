{
  "cells": [
    {
      "cell_type": "raw",
      "metadata": {},
      "source": [
        "---\n",
        "title: tp-vychod-k5-min-hrubky\n",
        "lang: sk\n",
        "execute:\n",
        "  echo: false\n",
        "  code-fold: True\n",
        "format:\n",
        "   # html:\n",
        "   #   mainfont: Times New Roman\n",
        "   #   fontsize: 0.9em\n",
        "   #   html-math-method: katex\n",
        "   # pdf: default\n",
        "   # typst: default\n",
        "---"
      ],
      "id": "4ec78505"
    },
    {
      "cell_type": "markdown",
      "metadata": {},
      "source": [
        "{{< pagebreak >}}\n",
        "\n",
        "\n",
        "\n",
        "\n",
        "\n",
        "\n",
        "### Vstupné údaje\n"
      ],
      "id": "cd0e3c53"
    },
    {
      "cell_type": "code",
      "metadata": {},
      "source": [
        "inputs={\n",
        "  \"membranova-stena\": {\n",
        "    \"od\" : 57,\n",
        "    \"t_nom\" : 5,\n",
        "    \"p_op\" : 10,\n",
        "    \"temp_op\" : 315,\n",
        "    \"material\" : \"12022\",\n",
        "  },\n",
        "  \"strop-ohniska\": {\n",
        "    \"od\" : 57,\n",
        "    \"t_nom\" : 5,\n",
        "    \"p_op\" : 10,\n",
        "    \"temp_op\" : 315,\n",
        "    \"material\" : \"12022\",\n",
        "  },\n",
        "  \"strop-medzitahu\": {\n",
        "    \"od\" : 57,\n",
        "    \"t_nom\" : 5,\n",
        "    \"p_op\" : 10,\n",
        "    \"temp_op\" : 305,\n",
        "    \"material\" : \"12022\",\n",
        "  },\n",
        "  \"zadna-stena-2-tah\": {\n",
        "    \"od\" : 57,\n",
        "    \"t_nom\" : 5,\n",
        "    \"p_op\" : 10,\n",
        "    \"temp_op\" : 260,\n",
        "    \"material\" : \"12022\",\n",
        "  },\n",
        "  \"p-l-stena-2-tah\": {\n",
        "    \"od\" : 57,\n",
        "    \"t_nom\" : 5,\n",
        "    \"p_op\" : 10,\n",
        "    \"temp_op\" : 260,\n",
        "    \"material\" : \"12022\",\n",
        "  },\n",
        "  \"vystupny-prehrievac\": {\n",
        "    \"od\" : 57,\n",
        "    \"t_nom\" : 5,\n",
        "    \"p_op\" : 10,\n",
        "    \"temp_op\" : 525,\n",
        "    \"material\" : \"15128\",\n",
        "  },\n",
        "  \"salavy-prehrievac\": {\n",
        "    \"od\" : 57,\n",
        "    \"t_nom\" : 5,\n",
        "    \"p_op\" : 10,\n",
        "    \"temp_op\" : 480,\n",
        "    \"material\" : \"15128\",\n",
        "  },\n",
        "  \"mreza\": {\n",
        "    \"od\" : 57,\n",
        "    \"t_nom\" : 5,\n",
        "    \"p_op\" : 10,\n",
        "    \"temp_op\" : 325,\n",
        "    \"material\" : \"12022\",\n",
        "  },\n",
        "}"
      ],
      "id": "5475301a",
      "execution_count": null,
      "outputs": []
    },
    {
      "cell_type": "code",
      "metadata": {},
      "source": [
        "#| label: tbl-inputs\n",
        "#| tbl-cap: Vstupné údaje\n",
        "#| tbl-cap-location: top\n",
        "\n",
        "from IPython.display import Markdown\n",
        "from tabulate import tabulate\n",
        "import pandas as pd\n",
        "\n",
        "# df = pd.DataFrame.from_dict(inputs, orient='index').reset_index(drop=True)\n",
        "df = pd.DataFrame.from_dict(inputs, orient='index')\n",
        "\n",
        "# print(df.to_markdown(index=True))\n",
        "Markdown(tabulate(df, headers=\"keys\", tablefmt=\"github\"))"
      ],
      "id": "tbl-inputs",
      "execution_count": null,
      "outputs": []
    },
    {
      "cell_type": "markdown",
      "metadata": {},
      "source": [
        "### Materiálové vlastnosti\n"
      ],
      "id": "ded21760"
    },
    {
      "cell_type": "code",
      "metadata": {},
      "source": [
        "import sympy as sy\n",
        "# sy.init_printing()\n",
        "from IPython.display import display, Math"
      ],
      "id": "7d80e199",
      "execution_count": null,
      "outputs": []
    },
    {
      "cell_type": "markdown",
      "metadata": {},
      "source": [
        "#### Materiál 12022\n",
        "\n",
        "Teplotný rozsah\n"
      ],
      "id": "630334b2"
    },
    {
      "cell_type": "code",
      "metadata": {},
      "source": [
        "t_12022=sy.var('T_{12022}')\n",
        "t_12022_values = [20,100,200,250,300,350,400,450]\n",
        "# Format the output in LaTeX\n",
        "latex_output = f\"${t_12022} = {t_12022_values}$\"\n",
        "# Render the LaTeX expression as a math equation\n",
        "display(Math(latex_output))"
      ],
      "id": "2ddc5886",
      "execution_count": null,
      "outputs": []
    },
    {
      "cell_type": "markdown",
      "metadata": {},
      "source": [
        "Medza klzu\n"
      ],
      "id": "9c203ddd"
    },
    {
      "cell_type": "code",
      "metadata": {},
      "source": [
        "rp02_12022=sy.var('R_{p02-12022}')\n",
        "rp02_12022_values = [255, 245, 225, 205, 177, 157, 137, 117]\n",
        "latex_output = f\"${rp02_12022} = {rp02_12022_values}$\"\n",
        "display(Math(latex_output))"
      ],
      "id": "98796e17",
      "execution_count": null,
      "outputs": []
    },
    {
      "cell_type": "markdown",
      "metadata": {},
      "source": [
        "Medza pevnosti\n"
      ],
      "id": "c6ba9704"
    },
    {
      "cell_type": "code",
      "metadata": {},
      "source": [
        "rm_12022=sy.var('R_{m-12022}')\n",
        "rm_12022_values = 440\n",
        "latex_output = f\"${rm_12022} = {rm_12022_values}$\"\n",
        "display(Math(latex_output))"
      ],
      "id": "b9005e49",
      "execution_count": null,
      "outputs": []
    },
    {
      "cell_type": "markdown",
      "metadata": {},
      "source": [
        "##### Medza pevnosti pri tečení (200 000 h)\n",
        "Teplotný rozsah\n"
      ],
      "id": "c58aaf16"
    },
    {
      "cell_type": "code",
      "metadata": {},
      "source": [
        "tt_12022=sy.var('T_{t-12022}')\n",
        "tt_12022_values = [380, 400, 420, 440, 460, 480, 500]\n",
        "latex_output = f\"${tt_12022} = {tt_12022_values}$\"\n",
        "display(Math(latex_output))"
      ],
      "id": "654ed593",
      "execution_count": null,
      "outputs": []
    },
    {
      "cell_type": "markdown",
      "metadata": {},
      "source": [
        "Medza pevnosti pri tečení\n"
      ],
      "id": "1ba4000e"
    },
    {
      "cell_type": "code",
      "metadata": {},
      "source": [
        "rmt_12022=sy.var('R_{mt-12022}')\n",
        "rmt_12022_values = [145, 115, 89, 67, 48, 33.4, 24]\n",
        "latex_output = f\"${rmt_12022} = {rmt_12022_values}$\"\n",
        "display(Math(latex_output))"
      ],
      "id": "682fcff5",
      "execution_count": null,
      "outputs": []
    },
    {
      "cell_type": "markdown",
      "metadata": {},
      "source": [
        "#### Materiál 15128\n",
        "\n",
        "Teplotný rozsah\n"
      ],
      "id": "a6969022"
    },
    {
      "cell_type": "code",
      "metadata": {},
      "source": [
        "t_15128=sy.var('T_{15128}')\n",
        "t_15128_values = [20, 200, 250, 300, 350, 400, 450, 500, 550, 600]\n",
        "latex_output = f\"${t_15128} = {t_15128_values}$\"\n",
        "display(Math(latex_output))"
      ],
      "id": "2a4df038",
      "execution_count": null,
      "outputs": []
    },
    {
      "cell_type": "markdown",
      "metadata": {},
      "source": [
        "Medza klzu\n"
      ],
      "id": "05f9f424"
    },
    {
      "cell_type": "code",
      "metadata": {},
      "source": [
        "rp02_15128=sy.var('R_{p02-15128}')\n",
        "rp02_15128_values = [365, 319, 304, 294, 279, 265, 245, 226, 206, 181]\n",
        "latex_output = f\"${rp02_15128} = {rp02_15128_values}$\"\n",
        "display(Math(latex_output))"
      ],
      "id": "6e17e2d5",
      "execution_count": null,
      "outputs": []
    },
    {
      "cell_type": "markdown",
      "metadata": {},
      "source": [
        "Medza pevnosti\n"
      ],
      "id": "59e68dbc"
    },
    {
      "cell_type": "code",
      "metadata": {},
      "source": [
        "rm_15128=sy.var('R_{m-15128}')\n",
        "rm_15128_values = 490\n",
        "latex_output = f\"${rm_15128} = {rm_15128_values}$\"\n",
        "display(Math(latex_output))"
      ],
      "id": "7b6b14b6",
      "execution_count": null,
      "outputs": []
    },
    {
      "cell_type": "markdown",
      "metadata": {},
      "source": [
        "##### Medza pevnosti pri tečení (200 000 h)\n",
        "Teplotný rozsah\n"
      ],
      "id": "4ceb7a3f"
    },
    {
      "cell_type": "code",
      "metadata": {},
      "source": [
        "tt_15128=sy.var('T_{t-15128}')\n",
        "tt_15128_values = [480, 500, 520, 540, 560, 580,6500]\n",
        "latex_output = f\"${tt_15128} = {tt_15128_values}$\"\n",
        "display(Math(latex_output))"
      ],
      "id": "6c54c2d9",
      "execution_count": null,
      "outputs": []
    },
    {
      "cell_type": "markdown",
      "metadata": {},
      "source": [
        "Medza pevnosti pri tečení\n"
      ],
      "id": "84f996a6"
    },
    {
      "cell_type": "code",
      "metadata": {},
      "source": [
        "rmt_15128=sy.var('R_{mt-15128}')\n",
        "rmt_15128_values = [197, 151, 115, 87, 66, 50, 38]\n",
        "latex_output = f\"${rmt_15128} = {rmt_15128_values}$\"\n",
        "display(Math(latex_output))"
      ],
      "id": "5b40d949",
      "execution_count": null,
      "outputs": []
    }
  ],
  "metadata": {
    "kernelspec": {
      "name": "python3",
      "language": "python",
      "display_name": "Python 3 (ipykernel)"
    }
  },
  "nbformat": 4,
  "nbformat_minor": 5
}