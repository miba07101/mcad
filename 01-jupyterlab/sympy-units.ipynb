{
 "cells": [
  {
   "cell_type": "code",
   "execution_count": 2,
   "id": "b2202a02-6279-4eae-8ec1-f78f82060107",
   "metadata": {},
   "outputs": [],
   "source": [
    "import sympy.physics.units as u"
   ]
  },
  {
   "cell_type": "code",
   "execution_count": 3,
   "id": "a12b14b0-834d-42d7-87c9-3f1cbbc4e833",
   "metadata": {},
   "outputs": [
    {
     "data": {
      "text/latex": [
       "$\\displaystyle 5 \\text{cm}$"
      ],
      "text/plain": [
       "5*centimeter"
      ]
     },
     "execution_count": 3,
     "metadata": {},
     "output_type": "execute_result"
    }
   ],
   "source": [
    "5*u.cm"
   ]
  },
  {
   "cell_type": "code",
   "execution_count": null,
   "id": "04cbff41-4f31-4069-a091-67a824c5eb6f",
   "metadata": {},
   "outputs": [],
   "source": []
  }
 ],
 "metadata": {
  "kernelspec": {
   "display_name": "Python 3 (ipykernel)",
   "language": "python",
   "name": "python3"
  },
  "language_info": {
   "codemirror_mode": {
    "name": "ipython",
    "version": 3
   },
   "file_extension": ".py",
   "mimetype": "text/x-python",
   "name": "python",
   "nbconvert_exporter": "python",
   "pygments_lexer": "ipython3",
   "version": "3.11.9"
  }
 },
 "nbformat": 4,
 "nbformat_minor": 5
}
