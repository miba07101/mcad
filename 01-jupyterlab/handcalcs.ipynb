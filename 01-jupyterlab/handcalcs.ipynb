{
 "cells": [
  {
   "cell_type": "code",
   "execution_count": 20,
   "id": "4345b416-14f5-4c4a-aee8-1177f72e22a3",
   "metadata": {},
   "outputs": [],
   "source": [
    "import pandas as pd\n",
    "\n",
    "from inputs_data import inputs"
   ]
  },
  {
   "cell_type": "markdown",
   "id": "58bae442-cffa-4be2-a381-accaeb9fe153",
   "metadata": {},
   "source": [
    "# Vstupne udaje"
   ]
  },
  {
   "cell_type": "code",
   "execution_count": 21,
   "id": "e686bc97-33d1-47d6-82b3-e2c6604c9c64",
   "metadata": {},
   "outputs": [
    {
     "data": {
      "text/html": [
       "<div>\n",
       "<style scoped>\n",
       "    .dataframe tbody tr th:only-of-type {\n",
       "        vertical-align: middle;\n",
       "    }\n",
       "\n",
       "    .dataframe tbody tr th {\n",
       "        vertical-align: top;\n",
       "    }\n",
       "\n",
       "    .dataframe thead th {\n",
       "        text-align: right;\n",
       "    }\n",
       "</style>\n",
       "<table border=\"1\" class=\"dataframe\">\n",
       "  <thead>\n",
       "    <tr style=\"text-align: right;\">\n",
       "      <th></th>\n",
       "      <th>od</th>\n",
       "      <th>t_nom</th>\n",
       "      <th>p_op</th>\n",
       "      <th>temp_op</th>\n",
       "      <th>material</th>\n",
       "    </tr>\n",
       "  </thead>\n",
       "  <tbody>\n",
       "    <tr>\n",
       "      <th>membranova-stena</th>\n",
       "      <td>57</td>\n",
       "      <td>5</td>\n",
       "      <td>10</td>\n",
       "      <td>315</td>\n",
       "      <td>12022</td>\n",
       "    </tr>\n",
       "    <tr>\n",
       "      <th>strop-ohniska</th>\n",
       "      <td>57</td>\n",
       "      <td>5</td>\n",
       "      <td>10</td>\n",
       "      <td>315</td>\n",
       "      <td>12022</td>\n",
       "    </tr>\n",
       "    <tr>\n",
       "      <th>strop-medzitahu</th>\n",
       "      <td>57</td>\n",
       "      <td>5</td>\n",
       "      <td>10</td>\n",
       "      <td>305</td>\n",
       "      <td>12022</td>\n",
       "    </tr>\n",
       "    <tr>\n",
       "      <th>zadna-stena-2-tah</th>\n",
       "      <td>57</td>\n",
       "      <td>5</td>\n",
       "      <td>10</td>\n",
       "      <td>260</td>\n",
       "      <td>12022</td>\n",
       "    </tr>\n",
       "    <tr>\n",
       "      <th>p-l-stena-2-tah</th>\n",
       "      <td>57</td>\n",
       "      <td>5</td>\n",
       "      <td>10</td>\n",
       "      <td>260</td>\n",
       "      <td>12022</td>\n",
       "    </tr>\n",
       "    <tr>\n",
       "      <th>vystupny-prehrievac</th>\n",
       "      <td>57</td>\n",
       "      <td>5</td>\n",
       "      <td>10</td>\n",
       "      <td>525</td>\n",
       "      <td>15128</td>\n",
       "    </tr>\n",
       "    <tr>\n",
       "      <th>salavy-prehrievac</th>\n",
       "      <td>57</td>\n",
       "      <td>5</td>\n",
       "      <td>10</td>\n",
       "      <td>480</td>\n",
       "      <td>15128</td>\n",
       "    </tr>\n",
       "    <tr>\n",
       "      <th>mreza</th>\n",
       "      <td>57</td>\n",
       "      <td>5</td>\n",
       "      <td>10</td>\n",
       "      <td>325</td>\n",
       "      <td>12022</td>\n",
       "    </tr>\n",
       "  </tbody>\n",
       "</table>\n",
       "</div>"
      ],
      "text/plain": [
       "                     od  t_nom  p_op  temp_op material\n",
       "membranova-stena     57      5    10      315    12022\n",
       "strop-ohniska        57      5    10      315    12022\n",
       "strop-medzitahu      57      5    10      305    12022\n",
       "zadna-stena-2-tah    57      5    10      260    12022\n",
       "p-l-stena-2-tah      57      5    10      260    12022\n",
       "vystupny-prehrievac  57      5    10      525    15128\n",
       "salavy-prehrievac    57      5    10      480    15128\n",
       "mreza                57      5    10      325    12022"
      ]
     },
     "execution_count": 21,
     "metadata": {},
     "output_type": "execute_result"
    }
   ],
   "source": [
    "df = pd.DataFrame.from_dict(inputs, orient=\"index\")\n",
    "df"
   ]
  },
  {
   "cell_type": "code",
   "execution_count": 22,
   "id": "be0751df-111a-4bfb-a136-3102f2d469ae",
   "metadata": {},
   "outputs": [],
   "source": [
    "import forallpeople as si\n",
    "import pint\n",
    "\n",
    "ureg = pint.UnitRegistry()\n",
    "Q_ = ureg.Quantity\n",
    "from handcalcs import render"
   ]
  },
  {
   "cell_type": "code",
   "execution_count": 23,
   "id": "a4b1ff34-31ea-4565-b04f-842c26cd9a30",
   "metadata": {},
   "outputs": [],
   "source": [
    "si.environment(\"default\", top_level=True)"
   ]
  },
  {
   "cell_type": "code",
   "execution_count": 46,
   "id": "2c2df1bf-1a0b-4129-8023-97c8a663de46",
   "metadata": {},
   "outputs": [
    {
     "name": "stdout",
     "output_type": "stream",
     "text": [
      "5 m\n"
     ]
    }
   ],
   "source": [
    "a = 5 * ureg.m\n",
    "print(\"{:~}\".format(a))"
   ]
  },
  {
   "cell_type": "code",
   "execution_count": 24,
   "id": "75d4860b-09ff-4d9d-9a28-0388fc20eea9",
   "metadata": {},
   "outputs": [
    {
     "data": {
      "text/latex": [
       "\\[\n",
       "\\begin{aligned}\n",
       "T &= [10.000\\ \\mathrm{°C},\\ 20.000\\ \\mathrm{°C}] \\; \n",
       "\\\\[10pt]\n",
       "\\mathrm{TT} &= [10.000\\ \\mathrm{centimeter},\\ 20.000\\ \\mathrm{megapascal}] \\; \n",
       "\\end{aligned}\n",
       "\\]"
      ],
      "text/plain": [
       "<IPython.core.display.Latex object>"
      ]
     },
     "metadata": {},
     "output_type": "display_data"
    }
   ],
   "source": [
    "%%render\n",
    "T = [10 * si.K, 20 * si.K]\n",
    "TT = [10 * ureg.cm, 20 * ureg.MPa]"
   ]
  },
  {
   "cell_type": "code",
   "execution_count": 25,
   "id": "18b26f21-728d-44c5-96b6-a6c12b79bd37",
   "metadata": {},
   "outputs": [
    {
     "data": {
      "text/html": [
       "10.000 °C"
      ],
      "text/latex": [
       "$10.000\\ \\mathrm{°C}$"
      ],
      "text/markdown": [
       "10.000 °C"
      ],
      "text/plain": [
       "10.000 °C"
      ]
     },
     "execution_count": 25,
     "metadata": {},
     "output_type": "execute_result"
    }
   ],
   "source": [
    "T[0]"
   ]
  },
  {
   "cell_type": "code",
   "execution_count": 26,
   "id": "0afd0be8-7ec1-48ad-93b2-30d90d774814",
   "metadata": {},
   "outputs": [
    {
     "data": {
      "text/latex": [
       "\\[\n",
       "\\begin{aligned}\n",
       "\\mathrm{temp} &= 0.500 \\; \n",
       "\\end{aligned}\n",
       "\\]"
      ],
      "text/plain": [
       "<IPython.core.display.Latex object>"
      ]
     },
     "metadata": {},
     "output_type": "display_data"
    }
   ],
   "source": [
    "%%render\n",
    "temp = T[0] / T[1]"
   ]
  },
  {
   "cell_type": "code",
   "execution_count": 27,
   "id": "5c54c093-fe5f-4273-bafb-aecc592fe96b",
   "metadata": {},
   "outputs": [
    {
     "data": {
      "text/plain": [
       "array([10.000 °C, 20.000 °C, 30.000 °C], dtype=object)"
      ]
     },
     "execution_count": 27,
     "metadata": {},
     "output_type": "execute_result"
    }
   ],
   "source": [
    "import numpy as np\n",
    "\n",
    "a = np.array([10, 20, 30]) * si.K\n",
    "a"
   ]
  },
  {
   "cell_type": "code",
   "execution_count": 28,
   "id": "9890053f-6e90-40d4-92f4-d30de826cddb",
   "metadata": {},
   "outputs": [
    {
     "name": "stdout",
     "output_type": "stream",
     "text": [
      "a1 = 10.000 °C\n",
      "a2 = 20.000 °C\n",
      "a3 = 30.000 °C\n"
     ]
    }
   ],
   "source": [
    "x = 0\n",
    "for i in a:\n",
    "    x += 1\n",
    "    print(f\"a{x} = {i}\")"
   ]
  },
  {
   "cell_type": "code",
   "execution_count": 29,
   "id": "f8c0cb3f-f99a-4672-8a7b-36a1b5af3b0a",
   "metadata": {},
   "outputs": [],
   "source": [
    "import forallpeople as si\n",
    "from handcalcs import render\n",
    "\n",
    "si.environment(\"default\", top_level=True)\n",
    "\n",
    "from math import ceil as Arredondar\n",
    "from math import fabs as Absoluto\n",
    "from math import sqrt\n",
    "\n",
    "import numpy as np\n",
    "import pandas as pd\n",
    "import sympy as sp\n",
    "from numpy import arctan, e\n",
    "from numpy import log as ln\n",
    "from numpy import pi, sin\n",
    "\n",
    "mm = 1e-3 * si.m"
   ]
  },
  {
   "cell_type": "code",
   "execution_count": 30,
   "id": "90fa3a67-a85c-4a4a-b301-520c04076f29",
   "metadata": {},
   "outputs": [
    {
     "data": {
      "text/latex": [
       "\\[\n",
       "\\begin{aligned}\n",
       "h_{i} &= 15 \\cdot \\mathrm{mm}  = 15 \\cdot 1.000\\ \\mathrm{mm} &= 15.000\\ \\mathrm{mm}  \n",
       "\\\\[10pt]\n",
       "h_{f} &= 5 \\cdot \\mathrm{mm}  = 5 \\cdot 1.000\\ \\mathrm{mm} &= 5.000\\ \\mathrm{mm}  \n",
       "\\\\[10pt]\n",
       "b &= 15 \\cdot \\mathrm{mm}  = 15 \\cdot 1.000\\ \\mathrm{mm} &= 15.000\\ \\mathrm{mm}  \n",
       "\\\\[10pt]\n",
       "\\phi_{h_{total}} &= \\operatorname{ln} { \\left( \\frac{ h_{f} }{ h_{i} } \\right) }  = \\operatorname{ln} { \\left( \\frac{ 5.000\\ \\mathrm{mm} }{ 15.000\\ \\mathrm{mm} } \\right) } &= -1.099  \n",
       "\\end{aligned}\n",
       "\\]"
      ],
      "text/plain": [
       "<IPython.core.display.Latex object>"
      ]
     },
     "metadata": {},
     "output_type": "display_data"
    }
   ],
   "source": [
    "%%render\n",
    "# short\n",
    "\n",
    "h_i = 15 * mm\n",
    "\n",
    "h_f = 5 * mm\n",
    "b = 15 * mm\n",
    "\n",
    "phi_h_total = ln(h_f / h_i)"
   ]
  },
  {
   "cell_type": "code",
   "execution_count": 31,
   "id": "85c2bb32-3ad9-4496-89de-93ab5a919a71",
   "metadata": {},
   "outputs": [
    {
     "name": "stdout",
     "output_type": "stream",
     "text": [
      "{'mm': 1.000 mm, 'ft': 1.000 ft, 'inch': 1.000 inch, 'N': 1.000 N, 'kN': 1.000 kN, 'MN': 1.000 MN, 'Pa': 1.000 Pa, 'kPa': 1.000 kPa, 'MPa': 1.000 MPa, 'GPa': 1.000 GPa, 'Nm': 1.000 N·m, 'N_m': 1.000 N/m, 'lbft': 1.000 lb·ft, 'kipft': 1.000 kip·ft, 'psf': 1.000 psf, 'lbin': 1.000 lb·in, 'kipin': 1.000 kip·in, 'ksf': 1.000 ksf, 'lb': 1.000 lb, 'lb_ft': 1.000 lb/ft, 'kip_ft': 1.000 kip/ft, 'kip': 1.000 kip, 'lbm': 1.000 lbm, 'psi': 1.000 psi, 'ksi': 1.000 ksi, 'pcf': 1.000 pcf, 'kcf': 1.000 kcf, 'pci': 1.000 pci, 'kci': 1.000 kcf, 'N_m3': 1.000 N/m³, 'Nm2': 1.000 N·m², 'lbft2': 1.000 lb·ft², 'kft2': 1.000 kip·ft², 'J': 1.000 N·m, 'MJ': 1.000 MN·m, 'W': 1.000 W} \n",
      " {'kg': 1.000 kg, 'm': 1.000 m, 's': 1.000 s, 'A': 1.000 A, 'cd': 1.000 cd, 'K': 1.000 K, 'mol': 1.000 mol}\n"
     ]
    }
   ],
   "source": [
    "si.environment(\"structural\")\n",
    "si.environment()"
   ]
  },
  {
   "cell_type": "code",
   "execution_count": 32,
   "id": "59ad3728-3683-4f77-bd3e-965930ced11b",
   "metadata": {},
   "outputs": [
    {
     "data": {
      "text/latex": [
       "\\[\n",
       "\\begin{aligned}\n",
       "a &= 15 \\cdot \\mathrm{si.MPa}  = 15 \\cdot si.MPa &= 15.000\\ \\mathrm{MPa}  \n",
       "\\end{aligned}\n",
       "\\]"
      ],
      "text/plain": [
       "<IPython.core.display.Latex object>"
      ]
     },
     "metadata": {},
     "output_type": "display_data"
    }
   ],
   "source": [
    "%%render\n",
    "# short\n",
    "a = 15 * si.MPa"
   ]
  },
  {
   "cell_type": "code",
   "execution_count": 33,
   "id": "d2047fdd-2998-42e7-909d-48d05c9cbc88",
   "metadata": {},
   "outputs": [],
   "source": [
    "import sympy.physics.units as u"
   ]
  },
  {
   "cell_type": "code",
   "execution_count": 34,
   "id": "95bc4964-d755-4cd7-b301-e059dfea092f",
   "metadata": {},
   "outputs": [
    {
     "data": {
      "text/latex": [
       "\\[\n",
       "\\begin{aligned}\n",
       "a &= 5 \\cdot \\mathrm{u.K}  = 5 \\cdot u.K &= 5 \\text{K}  \n",
       "\\\\[10pt]\n",
       "a &= 5 \\text{K} \\; \n",
       "\\end{aligned}\n",
       "\\]"
      ],
      "text/plain": [
       "<IPython.core.display.Latex object>"
      ]
     },
     "metadata": {},
     "output_type": "display_data"
    }
   ],
   "source": [
    "%%render\n",
    "a = 5 * u.K\n",
    "a"
   ]
  },
  {
   "cell_type": "code",
   "execution_count": 35,
   "id": "fef0fecb-8f34-4b38-bba4-2724d095a1c8",
   "metadata": {},
   "outputs": [
    {
     "data": {
      "text/plain": [
       "['K', 'kelvin', 'kelvins', 'planck_temperature']"
      ]
     },
     "execution_count": 35,
     "metadata": {},
     "output_type": "execute_result"
    }
   ],
   "source": [
    "u.find_unit(\"temperature\")"
   ]
  },
  {
   "cell_type": "code",
   "execution_count": 36,
   "id": "3fa3f155-2193-41d8-8301-7c8cb6f42174",
   "metadata": {},
   "outputs": [
    {
     "data": {
      "text/latex": [
       "$\\displaystyle 5 \\text{kPa}$"
      ],
      "text/plain": [
       "5*kilopascal"
      ]
     },
     "execution_count": 36,
     "metadata": {},
     "output_type": "execute_result"
    }
   ],
   "source": [
    "u.convert_to(5000 * u.pa, u.kPa)"
   ]
  },
  {
   "cell_type": "code",
   "execution_count": 37,
   "id": "91fe1de2-2f9f-4371-a084-1b04303c6a61",
   "metadata": {},
   "outputs": [
    {
     "data": {
      "text/latex": [
       "$\\displaystyle 5 \\text{m}$"
      ],
      "text/plain": [
       "5*meter"
      ]
     },
     "execution_count": 37,
     "metadata": {},
     "output_type": "execute_result"
    }
   ],
   "source": [
    "u.convert_to(5000 * u.mm, u.m)"
   ]
  }
 ],
 "metadata": {
  "kernelspec": {
   "display_name": "Python 3 (ipykernel)",
   "language": "python",
   "name": "python3"
  },
  "language_info": {
   "codemirror_mode": {
    "name": "ipython",
    "version": 3
   },
   "file_extension": ".py",
   "mimetype": "text/x-python",
   "name": "python",
   "nbconvert_exporter": "python",
   "pygments_lexer": "ipython3",
   "version": "3.11.9"
  }
 },
 "nbformat": 4,
 "nbformat_minor": 5
}
